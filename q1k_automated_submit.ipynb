{
 "cells": [
  {
   "cell_type": "markdown",
   "metadata": {},
   "source": [
    "# Generate automated session reports for all participants"
   ]
  },
  {
   "cell_type": "code",
   "execution_count": null,
   "metadata": {},
   "outputs": [],
   "source": [
    "import pandas as pd\n",
    "import numpy as np\n",
    "import mne\n",
    "import mne_bids\n",
    "import glob\n",
    "import warnings\n",
    "import os\n",
    "import re\n",
    "import subprocess\n",
    "\n",
    "import q1k_pyll_tools as qpt\n",
    "\n",
    "warnings.filterwarnings('ignore')"
   ]
  },
  {
   "cell_type": "markdown",
   "metadata": {
    "tags": []
   },
   "source": [
    "### Select task parameters and file paths"
   ]
  },
  {
   "cell_type": "code",
   "execution_count": null,
   "metadata": {},
   "outputs": [],
   "source": [
    "# Select kind of data experimental or control group\n",
    "\n",
    "#dataset_group = \"experimental\"\n",
    "\n",
    "#if dataset_group == \"control\":\n",
    "#    # Control group data\n",
    "#    project_path = \"/home/james/q1k/pilot/q1k-external-pilot/\"\n",
    "#    task_id_in = \"ap\"\n",
    "#    task_id_in_et = \"ap\"\n",
    "#    task_id_out = \"ap\"\n",
    "#    #subject_id = '002'\n",
    "#    session_id = '01'\n",
    "#    run_id = '1'\n",
    "\n",
    "#elif dataset_group == \"experimental\":\n",
    "## Experimental group data\n",
    "\n",
    "project_path = \"/project/def-emayada/q1k/experimental/\"\n",
    "pyll_path = \"derivatives/pylossless/\"\n",
    "code_path = \"code/q1k_eeget_init/\"\n",
    "task_id = \"RS\"\n",
    "#task_id_in_et = \"TO\"\n",
    "#task_id_out = \"TO\"\n",
    "#subject_id = 'Q1K_HSJ_100123_F1'\n",
    "run_id = '1'\n",
    "session_id = '01'\n",
    "root_data_path = \"\" \n"
   ]
  },
  {
   "cell_type": "code",
   "execution_count": null,
   "metadata": {},
   "outputs": [],
   "source": [
    "#find existing *.out files \n",
    "slurm_out_path = project_path + pyll_path + code_path + 'slurm_output/' +task_id + '/'\n",
    "slurm_out_files = slurm_out_path + '*' + task_id + '*.out'\n",
    "processed_sessions = glob.glob(slurm_out_files, recursive=True)\n",
    "processed_ids = [re.search(r\"sub-(.+?)_ses\", path).group(1) for path in processed_sessions]\n",
    "\n",
    "pattern = project_path + 'sub-*/**/eeg/*' + task_id + '*.edf'\n",
    "file_paths = glob.glob(pattern, recursive=True)\n",
    "for file_path in file_paths:\n",
    "    file_name = os.path.basename(file_path)  # Extract the filename from the full path\n",
    "    print(f\"File Path: {file_path}, File Name: {file_name}\")\n",
    "    file_id = re.search(r\"sub-(.+?)_ses\", file_name).group(1)\n",
    "    print(f\"File ID: {file_id}\")\n",
    "    \n",
    "    # Skip sessions that have already been processed\n",
    "    if file_id in processed_ids:\n",
    "        print(file_id + ' has already been processed')\n",
    "        continue\n",
    "\n",
    "    sbatch_command, result = qpt.submit_slurm_job(project_path, file_name, task_id)"
   ]
  }
 ],
 "metadata": {
  "kernelspec": {
   "display_name": "q1k_env",
   "language": "python",
   "name": "q1k_env"
  },
  "language_info": {
   "codemirror_mode": {
    "name": "ipython",
    "version": 3
   },
   "file_extension": ".py",
   "mimetype": "text/x-python",
   "name": "python",
   "nbconvert_exporter": "python",
   "pygments_lexer": "ipython3",
   "version": "3.11.5"
  }
 },
 "nbformat": 4,
 "nbformat_minor": 4
}
